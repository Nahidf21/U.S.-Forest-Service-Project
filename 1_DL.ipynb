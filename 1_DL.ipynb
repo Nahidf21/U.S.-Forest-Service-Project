{
 "cells": [
  {
   "cell_type": "code",
   "execution_count": 2,
   "metadata": {},
   "outputs": [],
   "source": [
    "# Deep Learning Framework Opensource :\n",
    "# Tensorflow - Google , Pytorch - Facebook "
   ]
  },
  {
   "cell_type": "code",
   "execution_count": 3,
   "metadata": {},
   "outputs": [],
   "source": [
    "# Perceptron [Artificial Neuron or Neural Network Unit]\n",
    "# - Single Layered Neaural Network - Binary Classifier or - Multi Layered Neaural Network \n",
    "# - Liniar classifier \n",
    "# - loss function "
   ]
  },
  {
   "cell_type": "code",
   "execution_count": 4,
   "metadata": {},
   "outputs": [],
   "source": [
    "# Input layer \n",
    "# Hidden layer\n",
    "# Weights\n",
    "# Activation Function = The activetion function tansform the output between 0 to 1 or -1 to 1 or ...."
   ]
  },
  {
   "cell_type": "code",
   "execution_count": 5,
   "metadata": {},
   "outputs": [],
   "source": [
    "# Lose Function MSE=(Y-Y^)^2 ( Check every data point then the propagetion will happand)\n",
    "# Cost Function MSE=1/n* E((Y-Y^)^2) ( after all datapoint calculated then propagetion will happend )\n",
    "\n"
   ]
  },
  {
   "cell_type": "code",
   "execution_count": 6,
   "metadata": {},
   "outputs": [],
   "source": [
    "# Using ANN, We can solve: \n",
    "# ANN - Classificetion Problem and -Regression Problem "
   ]
  },
  {
   "cell_type": "code",
   "execution_count": 8,
   "metadata": {},
   "outputs": [],
   "source": [
    "# Mean Squered Error(MSE)\n",
    "# Loss Function = (Y-Y^)^2\n",
    "# Cost Function = 1/n* E((Y-Y^)^2)\n",
    "# From the Gredient Dicent we will find out the global minimum "
   ]
  },
  {
   "cell_type": "code",
   "execution_count": 7,
   "metadata": {},
   "outputs": [],
   "source": [
    "# If there have Outliers \n",
    "# MAE = Mean Absolute Error \n",
    "# Cost Function = 1/n* E((Y-Y^)^2)"
   ]
  },
  {
   "cell_type": "code",
   "execution_count": 9,
   "metadata": {},
   "outputs": [],
   "source": [
    "# If there have no outliers \n",
    "# Mean Squered Error(MSE)\n",
    "# Loss Function = (Y-Y^)^2"
   ]
  },
  {
   "cell_type": "code",
   "execution_count": 10,
   "metadata": {},
   "outputs": [],
   "source": [
    "#RMSE (Root Mean Squared Error)\n",
    "#RMSE = Root (1/n* E((Y-Y^)^2))"
   ]
  },
  {
   "cell_type": "code",
   "execution_count": null,
   "metadata": {},
   "outputs": [],
   "source": []
  }
 ],
 "metadata": {
  "kernelspec": {
   "display_name": "Python 3",
   "language": "python",
   "name": "python3"
  },
  "language_info": {
   "codemirror_mode": {
    "name": "ipython",
    "version": 3
   },
   "file_extension": ".py",
   "mimetype": "text/x-python",
   "name": "python",
   "nbconvert_exporter": "python",
   "pygments_lexer": "ipython3",
   "version": "3.12.4"
  }
 },
 "nbformat": 4,
 "nbformat_minor": 2
}
